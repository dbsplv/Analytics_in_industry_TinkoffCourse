{
 "cells": [
  {
   "cell_type": "code",
   "execution_count": 5,
   "id": "b7a351f5",
   "metadata": {},
   "outputs": [],
   "source": [
    "import numpy as np\n",
    "import pandas as pd\n",
    "import scipy.stats as st\n",
    "import matplotlib.pyplot as plt\n",
    "\n",
    "\n",
    "from statsmodels.stats.weightstats import _zconfint_generic, _tconfint_generic\n",
    "from statsmodels.stats.proportion import proportion_confint"
   ]
  },
  {
   "attachments": {
    "image.png": {
     "image/png": "[encoded data removed]"
    }
   },
   "cell_type": "markdown",
   "id": "4c6f5944",
   "metadata": {},
   "source": [
    "![image.png](attachment:image.png)"
   ]
  },
  {
   "cell_type": "code",
   "execution_count": 2,
   "id": "73f48d9b",
   "metadata": {},
   "outputs": [],
   "source": [
    "data = pd.read_csv('data.csv')"
   ]
  },
  {
   "cell_type": "code",
   "execution_count": 3,
   "id": "beeccb09",
   "metadata": {},
   "outputs": [
    {
     "data": {
      "text/html": [
       "<div>\n",
       "<style scoped>\n",
       "    .dataframe tbody tr th:only-of-type {\n",
       "        vertical-align: middle;\n",
       "    }\n",
       "\n",
       "    .dataframe tbody tr th {\n",
       "        vertical-align: top;\n",
       "    }\n",
       "\n",
       "    .dataframe thead th {\n",
       "        text-align: right;\n",
       "    }\n",
       "</style>\n",
       "<table border=\"1\" class=\"dataframe\">\n",
       "  <thead>\n",
       "    <tr style=\"text-align: right;\">\n",
       "      <th></th>\n",
       "      <th>id</th>\n",
       "      <th>required_amt</th>\n",
       "      <th>installment_flg</th>\n",
       "      <th>monthly_income_amt</th>\n",
       "      <th>age</th>\n",
       "      <th>has_high_education_flg</th>\n",
       "      <th>approved_flg</th>\n",
       "    </tr>\n",
       "  </thead>\n",
       "  <tbody>\n",
       "    <tr>\n",
       "      <th>0</th>\n",
       "      <td>1</td>\n",
       "      <td>23906.0</td>\n",
       "      <td>0</td>\n",
       "      <td>80000</td>\n",
       "      <td>37</td>\n",
       "      <td>0</td>\n",
       "      <td>0</td>\n",
       "    </tr>\n",
       "    <tr>\n",
       "      <th>1</th>\n",
       "      <td>2</td>\n",
       "      <td>13111.0</td>\n",
       "      <td>1</td>\n",
       "      <td>43000</td>\n",
       "      <td>22</td>\n",
       "      <td>0</td>\n",
       "      <td>0</td>\n",
       "    </tr>\n",
       "    <tr>\n",
       "      <th>2</th>\n",
       "      <td>3</td>\n",
       "      <td>43266.0</td>\n",
       "      <td>1</td>\n",
       "      <td>20000</td>\n",
       "      <td>34</td>\n",
       "      <td>0</td>\n",
       "      <td>0</td>\n",
       "    </tr>\n",
       "    <tr>\n",
       "      <th>3</th>\n",
       "      <td>4</td>\n",
       "      <td>68782.0</td>\n",
       "      <td>1</td>\n",
       "      <td>35000</td>\n",
       "      <td>24</td>\n",
       "      <td>0</td>\n",
       "      <td>0</td>\n",
       "    </tr>\n",
       "    <tr>\n",
       "      <th>4</th>\n",
       "      <td>5</td>\n",
       "      <td>19550.0</td>\n",
       "      <td>1</td>\n",
       "      <td>25000</td>\n",
       "      <td>42</td>\n",
       "      <td>1</td>\n",
       "      <td>0</td>\n",
       "    </tr>\n",
       "  </tbody>\n",
       "</table>\n",
       "</div>"
      ],
      "text/plain": [
       "   id  required_amt  installment_flg  monthly_income_amt  age  \\\n",
       "0   1       23906.0                0               80000   37   \n",
       "1   2       13111.0                1               43000   22   \n",
       "2   3       43266.0                1               20000   34   \n",
       "3   4       68782.0                1               35000   24   \n",
       "4   5       19550.0                1               25000   42   \n",
       "\n",
       "   has_high_education_flg  approved_flg  \n",
       "0                       0             0  \n",
       "1                       0             0  \n",
       "2                       0             0  \n",
       "3                       0             0  \n",
       "4                       1             0  "
      ]
     },
     "execution_count": 3,
     "metadata": {},
     "output_type": "execute_result"
    }
   ],
   "source": [
    "data.head()"
   ]
  },
  {
   "cell_type": "markdown",
   "id": "55586e62",
   "metadata": {},
   "source": [
    "* id - идентификатор заявки на получение кредита на товар/услугу\n",
    "* required_amt - запрошенная сумма кредита\n",
    "* installment_flg - флаг промо продукта\n",
    "* monthly_income_amt - ежемесячный доход заявителя\n",
    "* age - возраст заявителя\n",
    "* has_high_education_flg - наличие высшего образования\n",
    "* approved_flg - одобрил ли банк заявку"
   ]
  },
  {
   "cell_type": "code",
   "execution_count": 46,
   "id": "ec72a3c9",
   "metadata": {},
   "outputs": [
    {
     "data": {
      "text/plain": [
       "[]"
      ]
     },
     "execution_count": 46,
     "metadata": {},
     "output_type": "execute_result"
    },
    {
     "data": {
      "image/png": "[encoded data removed]",
      "text/plain": [
       "<Figure size 864x360 with 2 Axes>"
      ]
     },
     "metadata": {
      "needs_background": "light"
     },
     "output_type": "display_data"
    }
   ],
   "source": [
    "fig,ax = plt.subplots(1,2)\n",
    "\n",
    "fig.set_size_inches(12,5)\n",
    "ax[0].hist(data.required_amt[data.required_amt < data.required_amt.quantile(0.99)], \n",
    "           bins=15, label ='запрошенная сумма')\n",
    "ax[0].legend()\n",
    "\n",
    "ax[1].hist(np.log(data.required_amt[data.required_amt < data.required_amt.quantile(0.99)]), \n",
    "           bins=15, label ='логарифм от запрошенной суммы')\n",
    "ax[1].legend()\n",
    "\n",
    "plt.plot()"
   ]
  },
  {
   "cell_type": "markdown",
   "id": "74a64cef",
   "metadata": {},
   "source": [
    "Построить предсказательные интервалы для ежемесячного дохода и запрошенной суммы (в предположении логнормальности данных)"
   ]
  },
  {
   "cell_type": "markdown",
   "id": "cf6ea56f",
   "metadata": {},
   "source": [
    "$$\\log{X} \\sim N(\\mu,\\sigma^2)$$\n",
    "Тогда \n",
    "$$\\frac{\\log{X}-\\mu}{S}\\sim t_{n-1}$$\n",
    "В таком случае предсказательный интервал примет вид\n",
    "$$\\textbf{P}\\left \\{exp\\{\\hat{\\mu} -  t_{n-1,1-\\frac{\\alpha}{2}} S \\} <X< exp\\{\\hat{\\mu} +  t_{n-1,1-\\frac{\\alpha}{2}} S \\}  \\right\\} \\approx 1-\\alpha   $$"
   ]
  },
  {
   "cell_type": "code",
   "execution_count": 67,
   "id": "0900b5bf",
   "metadata": {},
   "outputs": [],
   "source": [
    "sample_req = data[ (data.required_amt < data.required_amt.quantile(0.99))  &  (data.required_amt > data.required_amt.quantile(0.01))].required_amt\n",
    "sample_inc = data[ (data.monthly_income_amt < data.monthly_income_amt.quantile(0.99))  &  (data.monthly_income_amt > data.monthly_income_amt.quantile(0.01))].monthly_income_amt\n"
   ]
  },
  {
   "cell_type": "code",
   "execution_count": 68,
   "id": "6b9779b0",
   "metadata": {},
   "outputs": [
    {
     "name": "stdout",
     "output_type": "stream",
     "text": [
      "required_amt 95% predictive interval: [10,947.75] - 76,428.13 ]  \n",
      "monthly_income_amt 95% predictive interval: [25,161.05] - 62,566.92 ]  \n"
     ]
    }
   ],
   "source": [
    "log_req_pred_int= _zconfint_generic(np.log(sample_req).mean(),\n",
    "                           np.var(np.log(sample_req)),\n",
    "                            0.05,\n",
    "                           'two-sided'\n",
    "                       )\n",
    "log_inc_pred_int= _zconfint_generic(np.log(sample_inc).mean(),\n",
    "                           np.var(np.log(sample_inc)),\n",
    "                            0.05,\n",
    "                           'two-sided'\n",
    "                       )\n",
    "\n",
    "\n",
    "print(f'required_amt 95% predictive interval: [{np.exp(log_req_pred_int[0]):,.2f}] - {np.exp(log_req_pred_int[1]):,.2f} ]  ' )\n",
    "print(f'monthly_income_amt 95% predictive interval: [{np.exp(log_inc_pred_int[0]):,.2f}] - {np.exp(log_inc_pred_int[1]):,.2f} ]  ' )"
   ]
  },
  {
   "cell_type": "code",
   "execution_count": null,
   "id": "5eaf047a",
   "metadata": {},
   "outputs": [],
   "source": []
  },
  {
   "cell_type": "code",
   "execution_count": null,
   "id": "560f92de",
   "metadata": {},
   "outputs": [],
   "source": []
  }
 ],
 "metadata": {
  "kernelspec": {
   "display_name": "Python 3 (ipykernel)",
   "language": "python",
   "name": "python3"
  },
  "language_info": {
   "codemirror_mode": {
    "name": "ipython",
    "version": 3
   },
   "file_extension": ".py",
   "mimetype": "text/x-python",
   "name": "python",
   "nbconvert_exporter": "python",
   "pygments_lexer": "ipython3",
   "version": "3.9.7"
  }
 },
 "nbformat": 4,
 "nbformat_minor": 5
}
